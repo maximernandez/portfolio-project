{
 "cells": [
  {
   "cell_type": "code",
   "execution_count": 28,
   "id": "c1335770-a877-4167-865c-6b05fcfca008",
   "metadata": {},
   "outputs": [
    {
     "name": "stderr",
     "output_type": "stream",
     "text": [
      "[*********************100%***********************]  3 of 3 completed"
     ]
    },
    {
     "name": "stdout",
     "output_type": "stream",
     "text": [
      "\n",
      "Sharpe Ratio annualisé :\n",
      " Ticker\n",
      "AAPL    -0.124461\n",
      "GOOGL    0.466199\n",
      "MSFT     0.878148\n",
      "dtype: float64\n",
      "\n",
      "Nombre de jours observés : 248\n"
     ]
    },
    {
     "name": "stderr",
     "output_type": "stream",
     "text": [
      "\n"
     ]
    }
   ],
   "source": [
    "import pandas as pd\n",
    "import sys\n",
    "\n",
    "sys.path.append(\"../src\")\n",
    "\n",
    "from data_loader import download_prices_adj_close\n",
    "from risk_metrics import compute_returns, compute_volatility, compute_sharpe_ratio\n",
    "\n",
    "# Récupération des prix ajustés\n",
    "#Attention on ne peut faire qu'un an de periode avec la fonction que l'on a créer\n",
    "tickers = [\"AAPL\", \"MSFT\", \"GOOGL\"]\n",
    "prices = download_prices_adj_close(tickers, start=\"2024-08-01\", end=\"2025-07-31\")\n",
    "\n",
    "# Calculs\n",
    "returns = compute_returns(prices)\n",
    "volatility = compute_volatility(returns)\n",
    "sharpe = compute_sharpe_ratio(returns)\n",
    "\n",
    "# Affichage des résultats\n",
    "\n",
    "print(\"\\nSharpe Ratio annualisé :\\n\", sharpe)\n",
    "print(\"\\nNombre de jours observés :\", len(returns))\n"
   ]
  },
  {
   "cell_type": "markdown",
   "id": "a36ee5a6-9f30-4d6c-b061-0473d10adbb5",
   "metadata": {},
   "source": [
    "#### Sharpe calculé pour Apple (AAPL) : -0.12  \n",
    "#### Sharpe selon PortfoliosLab : –0,13\n",
    "\n",
    "#### Source d'erreur : Nombre de jours observés = 248 != 252 \n"
   ]
  }
 ],
 "metadata": {
  "kernelspec": {
   "display_name": "Python [conda env:base] *",
   "language": "python",
   "name": "conda-base-py"
  },
  "language_info": {
   "codemirror_mode": {
    "name": "ipython",
    "version": 3
   },
   "file_extension": ".py",
   "mimetype": "text/x-python",
   "name": "python",
   "nbconvert_exporter": "python",
   "pygments_lexer": "ipython3",
   "version": "3.12.7"
  }
 },
 "nbformat": 4,
 "nbformat_minor": 5
}
