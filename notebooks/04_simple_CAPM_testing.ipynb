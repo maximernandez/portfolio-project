{
 "cells": [
  {
   "cell_type": "code",
   "execution_count": 12,
   "id": "c32b20bf-fb04-4589-ab63-173a0aade2d1",
   "metadata": {},
   "outputs": [
    {
     "name": "stderr",
     "output_type": "stream",
     "text": [
      "[*********************100%***********************]  4 of 4 completed"
     ]
    },
    {
     "name": "stdout",
     "output_type": "stream",
     "text": [
      "Betas\n",
      "{'AAPL': 1.1089660265920658, 'GOOGL': 1.3926566051254121, 'MSFT': 1.184262537766762}\n",
      "\n",
      "Expected returns from our simple CAPM :\n",
      "{'AAPL': 0.08653796159552395, 'GOOGL': 0.10355939630752473, 'MSFT': 0.09105575226600572}\n"
     ]
    },
    {
     "name": "stderr",
     "output_type": "stream",
     "text": [
      "\n"
     ]
    }
   ],
   "source": [
    "import sys\n",
    "\n",
    "sys.path.append(\"../src\")\n",
    "from simple_CAPM import run_capm_pipeline\n",
    "\n",
    "tickers = [\"AAPL\", \"MSFT\", \"GOOGL\"]\n",
    "betas, exp_returns = run_capm_pipeline(tickers)\n",
    "\n",
    "print(\"Betas\")\n",
    "print(betas)\n",
    "print(\"\\nExpected returns from our simple CAPM :\")\n",
    "print(exp_returns)\n"
   ]
  },
  {
   "cell_type": "markdown",
   "id": "3aca7644-f2df-42ee-baa5-80ea0875d48e",
   "metadata": {},
   "source": [
    "#### 0.09 = 9 %"
   ]
  }
 ],
 "metadata": {
  "kernelspec": {
   "display_name": "Python [conda env:base] *",
   "language": "python",
   "name": "conda-base-py"
  },
  "language_info": {
   "codemirror_mode": {
    "name": "ipython",
    "version": 3
   },
   "file_extension": ".py",
   "mimetype": "text/x-python",
   "name": "python",
   "nbconvert_exporter": "python",
   "pygments_lexer": "ipython3",
   "version": "3.12.7"
  }
 },
 "nbformat": 4,
 "nbformat_minor": 5
}
